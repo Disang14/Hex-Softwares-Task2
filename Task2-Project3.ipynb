{
 "cells": [
  {
   "cell_type": "markdown",
   "id": "d035d42b-4fe6-4ca1-9952-47f29be50e93",
   "metadata": {},
   "source": [
    "# Analyzing and Visualizing Movie Ratings"
   ]
  },
  {
   "cell_type": "markdown",
   "id": "8512f97b-d81c-4a32-b2a0-327dcec7a7b9",
   "metadata": {},
   "source": [
    "# 1. Data Cleaning and Preprocessing"
   ]
  },
  {
   "cell_type": "markdown",
   "id": "6089c6c0-fb37-4b39-8881-4171f1ee955b",
   "metadata": {},
   "source": [
    "## Loading the dataset: Use Pandas to load the dataset (CSV format)."
   ]
  },
  {
   "cell_type": "code",
   "execution_count": 1,
   "id": "15e69b11-4b1c-4f15-b44f-bbdcad508b4d",
   "metadata": {},
   "outputs": [],
   "source": [
    "import pandas as pd\n",
    "data = pd.read_csv('IMDB-Movie-Data.csv')"
   ]
  },
  {
   "cell_type": "markdown",
   "id": "534b25a0-767a-4325-9c2c-eb6dda4cb999",
   "metadata": {},
   "source": [
    "## Inspecting the data: Check for any missing or duplicate values."
   ]
  },
  {
   "cell_type": "code",
   "execution_count": 2,
   "id": "986f98b7-0cd0-4b39-9978-5d34cc02d251",
   "metadata": {},
   "outputs": [
    {
     "data": {
      "text/html": [
       "<div>\n",
       "<style scoped>\n",
       "    .dataframe tbody tr th:only-of-type {\n",
       "        vertical-align: middle;\n",
       "    }\n",
       "\n",
       "    .dataframe tbody tr th {\n",
       "        vertical-align: top;\n",
       "    }\n",
       "\n",
       "    .dataframe thead th {\n",
       "        text-align: right;\n",
       "    }\n",
       "</style>\n",
       "<table border=\"1\" class=\"dataframe\">\n",
       "  <thead>\n",
       "    <tr style=\"text-align: right;\">\n",
       "      <th></th>\n",
       "      <th>Rank</th>\n",
       "      <th>Title</th>\n",
       "      <th>Genre</th>\n",
       "      <th>Description</th>\n",
       "      <th>Director</th>\n",
       "      <th>Actors</th>\n",
       "      <th>Year</th>\n",
       "      <th>Runtime (Minutes)</th>\n",
       "      <th>Rating</th>\n",
       "      <th>Votes</th>\n",
       "      <th>Revenue (Millions)</th>\n",
       "      <th>Metascore</th>\n",
       "    </tr>\n",
       "  </thead>\n",
       "  <tbody>\n",
       "    <tr>\n",
       "      <th>0</th>\n",
       "      <td>1</td>\n",
       "      <td>Guardians of the Galaxy</td>\n",
       "      <td>Action,Adventure,Sci-Fi</td>\n",
       "      <td>A group of intergalactic criminals are forced ...</td>\n",
       "      <td>James Gunn</td>\n",
       "      <td>Chris Pratt, Vin Diesel, Bradley Cooper, Zoe S...</td>\n",
       "      <td>2014</td>\n",
       "      <td>121</td>\n",
       "      <td>8.1</td>\n",
       "      <td>757074</td>\n",
       "      <td>333.13</td>\n",
       "      <td>76.0</td>\n",
       "    </tr>\n",
       "    <tr>\n",
       "      <th>1</th>\n",
       "      <td>2</td>\n",
       "      <td>Prometheus</td>\n",
       "      <td>Adventure,Mystery,Sci-Fi</td>\n",
       "      <td>Following clues to the origin of mankind, a te...</td>\n",
       "      <td>Ridley Scott</td>\n",
       "      <td>Noomi Rapace, Logan Marshall-Green, Michael Fa...</td>\n",
       "      <td>2012</td>\n",
       "      <td>124</td>\n",
       "      <td>7.0</td>\n",
       "      <td>485820</td>\n",
       "      <td>126.46</td>\n",
       "      <td>65.0</td>\n",
       "    </tr>\n",
       "    <tr>\n",
       "      <th>2</th>\n",
       "      <td>3</td>\n",
       "      <td>Split</td>\n",
       "      <td>Horror,Thriller</td>\n",
       "      <td>Three girls are kidnapped by a man with a diag...</td>\n",
       "      <td>M. Night Shyamalan</td>\n",
       "      <td>James McAvoy, Anya Taylor-Joy, Haley Lu Richar...</td>\n",
       "      <td>2016</td>\n",
       "      <td>117</td>\n",
       "      <td>7.3</td>\n",
       "      <td>157606</td>\n",
       "      <td>138.12</td>\n",
       "      <td>62.0</td>\n",
       "    </tr>\n",
       "    <tr>\n",
       "      <th>3</th>\n",
       "      <td>4</td>\n",
       "      <td>Sing</td>\n",
       "      <td>Animation,Comedy,Family</td>\n",
       "      <td>In a city of humanoid animals, a hustling thea...</td>\n",
       "      <td>Christophe Lourdelet</td>\n",
       "      <td>Matthew McConaughey,Reese Witherspoon, Seth Ma...</td>\n",
       "      <td>2016</td>\n",
       "      <td>108</td>\n",
       "      <td>7.2</td>\n",
       "      <td>60545</td>\n",
       "      <td>270.32</td>\n",
       "      <td>59.0</td>\n",
       "    </tr>\n",
       "    <tr>\n",
       "      <th>4</th>\n",
       "      <td>5</td>\n",
       "      <td>Suicide Squad</td>\n",
       "      <td>Action,Adventure,Fantasy</td>\n",
       "      <td>A secret government agency recruits some of th...</td>\n",
       "      <td>David Ayer</td>\n",
       "      <td>Will Smith, Jared Leto, Margot Robbie, Viola D...</td>\n",
       "      <td>2016</td>\n",
       "      <td>123</td>\n",
       "      <td>6.2</td>\n",
       "      <td>393727</td>\n",
       "      <td>325.02</td>\n",
       "      <td>40.0</td>\n",
       "    </tr>\n",
       "  </tbody>\n",
       "</table>\n",
       "</div>"
      ],
      "text/plain": [
       "   Rank                    Title                     Genre  \\\n",
       "0     1  Guardians of the Galaxy   Action,Adventure,Sci-Fi   \n",
       "1     2               Prometheus  Adventure,Mystery,Sci-Fi   \n",
       "2     3                    Split           Horror,Thriller   \n",
       "3     4                     Sing   Animation,Comedy,Family   \n",
       "4     5            Suicide Squad  Action,Adventure,Fantasy   \n",
       "\n",
       "                                         Description              Director  \\\n",
       "0  A group of intergalactic criminals are forced ...            James Gunn   \n",
       "1  Following clues to the origin of mankind, a te...          Ridley Scott   \n",
       "2  Three girls are kidnapped by a man with a diag...    M. Night Shyamalan   \n",
       "3  In a city of humanoid animals, a hustling thea...  Christophe Lourdelet   \n",
       "4  A secret government agency recruits some of th...            David Ayer   \n",
       "\n",
       "                                              Actors  Year  Runtime (Minutes)  \\\n",
       "0  Chris Pratt, Vin Diesel, Bradley Cooper, Zoe S...  2014                121   \n",
       "1  Noomi Rapace, Logan Marshall-Green, Michael Fa...  2012                124   \n",
       "2  James McAvoy, Anya Taylor-Joy, Haley Lu Richar...  2016                117   \n",
       "3  Matthew McConaughey,Reese Witherspoon, Seth Ma...  2016                108   \n",
       "4  Will Smith, Jared Leto, Margot Robbie, Viola D...  2016                123   \n",
       "\n",
       "   Rating   Votes  Revenue (Millions)  Metascore  \n",
       "0     8.1  757074              333.13       76.0  \n",
       "1     7.0  485820              126.46       65.0  \n",
       "2     7.3  157606              138.12       62.0  \n",
       "3     7.2   60545              270.32       59.0  \n",
       "4     6.2  393727              325.02       40.0  "
      ]
     },
     "execution_count": 2,
     "metadata": {},
     "output_type": "execute_result"
    }
   ],
   "source": [
    "data.head()"
   ]
  },
  {
   "cell_type": "code",
   "execution_count": 3,
   "id": "165c287e-0395-48b3-a063-494db6b7d704",
   "metadata": {},
   "outputs": [
    {
     "name": "stdout",
     "output_type": "stream",
     "text": [
      "<class 'pandas.core.frame.DataFrame'>\n",
      "RangeIndex: 1000 entries, 0 to 999\n",
      "Data columns (total 12 columns):\n",
      " #   Column              Non-Null Count  Dtype  \n",
      "---  ------              --------------  -----  \n",
      " 0   Rank                1000 non-null   int64  \n",
      " 1   Title               1000 non-null   object \n",
      " 2   Genre               1000 non-null   object \n",
      " 3   Description         1000 non-null   object \n",
      " 4   Director            1000 non-null   object \n",
      " 5   Actors              1000 non-null   object \n",
      " 6   Year                1000 non-null   int64  \n",
      " 7   Runtime (Minutes)   1000 non-null   int64  \n",
      " 8   Rating              1000 non-null   float64\n",
      " 9   Votes               1000 non-null   int64  \n",
      " 10  Revenue (Millions)  872 non-null    float64\n",
      " 11  Metascore           936 non-null    float64\n",
      "dtypes: float64(3), int64(4), object(5)\n",
      "memory usage: 93.9+ KB\n"
     ]
    }
   ],
   "source": [
    "data.info()"
   ]
  },
  {
   "cell_type": "code",
   "execution_count": 4,
   "id": "0ee26136-78a9-4f69-9b12-a76100d38782",
   "metadata": {},
   "outputs": [
    {
     "data": {
      "text/html": [
       "<div>\n",
       "<style scoped>\n",
       "    .dataframe tbody tr th:only-of-type {\n",
       "        vertical-align: middle;\n",
       "    }\n",
       "\n",
       "    .dataframe tbody tr th {\n",
       "        vertical-align: top;\n",
       "    }\n",
       "\n",
       "    .dataframe thead th {\n",
       "        text-align: right;\n",
       "    }\n",
       "</style>\n",
       "<table border=\"1\" class=\"dataframe\">\n",
       "  <thead>\n",
       "    <tr style=\"text-align: right;\">\n",
       "      <th></th>\n",
       "      <th>Rank</th>\n",
       "      <th>Year</th>\n",
       "      <th>Runtime (Minutes)</th>\n",
       "      <th>Rating</th>\n",
       "      <th>Votes</th>\n",
       "      <th>Revenue (Millions)</th>\n",
       "      <th>Metascore</th>\n",
       "    </tr>\n",
       "  </thead>\n",
       "  <tbody>\n",
       "    <tr>\n",
       "      <th>count</th>\n",
       "      <td>1000.000000</td>\n",
       "      <td>1000.000000</td>\n",
       "      <td>1000.000000</td>\n",
       "      <td>1000.000000</td>\n",
       "      <td>1.000000e+03</td>\n",
       "      <td>872.000000</td>\n",
       "      <td>936.000000</td>\n",
       "    </tr>\n",
       "    <tr>\n",
       "      <th>mean</th>\n",
       "      <td>500.500000</td>\n",
       "      <td>2012.783000</td>\n",
       "      <td>113.172000</td>\n",
       "      <td>6.723200</td>\n",
       "      <td>1.698083e+05</td>\n",
       "      <td>82.956376</td>\n",
       "      <td>58.985043</td>\n",
       "    </tr>\n",
       "    <tr>\n",
       "      <th>std</th>\n",
       "      <td>288.819436</td>\n",
       "      <td>3.205962</td>\n",
       "      <td>18.810908</td>\n",
       "      <td>0.945429</td>\n",
       "      <td>1.887626e+05</td>\n",
       "      <td>103.253540</td>\n",
       "      <td>17.194757</td>\n",
       "    </tr>\n",
       "    <tr>\n",
       "      <th>min</th>\n",
       "      <td>1.000000</td>\n",
       "      <td>2006.000000</td>\n",
       "      <td>66.000000</td>\n",
       "      <td>1.900000</td>\n",
       "      <td>6.100000e+01</td>\n",
       "      <td>0.000000</td>\n",
       "      <td>11.000000</td>\n",
       "    </tr>\n",
       "    <tr>\n",
       "      <th>25%</th>\n",
       "      <td>250.750000</td>\n",
       "      <td>2010.000000</td>\n",
       "      <td>100.000000</td>\n",
       "      <td>6.200000</td>\n",
       "      <td>3.630900e+04</td>\n",
       "      <td>13.270000</td>\n",
       "      <td>47.000000</td>\n",
       "    </tr>\n",
       "    <tr>\n",
       "      <th>50%</th>\n",
       "      <td>500.500000</td>\n",
       "      <td>2014.000000</td>\n",
       "      <td>111.000000</td>\n",
       "      <td>6.800000</td>\n",
       "      <td>1.107990e+05</td>\n",
       "      <td>47.985000</td>\n",
       "      <td>59.500000</td>\n",
       "    </tr>\n",
       "    <tr>\n",
       "      <th>75%</th>\n",
       "      <td>750.250000</td>\n",
       "      <td>2016.000000</td>\n",
       "      <td>123.000000</td>\n",
       "      <td>7.400000</td>\n",
       "      <td>2.399098e+05</td>\n",
       "      <td>113.715000</td>\n",
       "      <td>72.000000</td>\n",
       "    </tr>\n",
       "    <tr>\n",
       "      <th>max</th>\n",
       "      <td>1000.000000</td>\n",
       "      <td>2016.000000</td>\n",
       "      <td>191.000000</td>\n",
       "      <td>9.000000</td>\n",
       "      <td>1.791916e+06</td>\n",
       "      <td>936.630000</td>\n",
       "      <td>100.000000</td>\n",
       "    </tr>\n",
       "  </tbody>\n",
       "</table>\n",
       "</div>"
      ],
      "text/plain": [
       "              Rank         Year  Runtime (Minutes)       Rating         Votes  \\\n",
       "count  1000.000000  1000.000000        1000.000000  1000.000000  1.000000e+03   \n",
       "mean    500.500000  2012.783000         113.172000     6.723200  1.698083e+05   \n",
       "std     288.819436     3.205962          18.810908     0.945429  1.887626e+05   \n",
       "min       1.000000  2006.000000          66.000000     1.900000  6.100000e+01   \n",
       "25%     250.750000  2010.000000         100.000000     6.200000  3.630900e+04   \n",
       "50%     500.500000  2014.000000         111.000000     6.800000  1.107990e+05   \n",
       "75%     750.250000  2016.000000         123.000000     7.400000  2.399098e+05   \n",
       "max    1000.000000  2016.000000         191.000000     9.000000  1.791916e+06   \n",
       "\n",
       "       Revenue (Millions)   Metascore  \n",
       "count          872.000000  936.000000  \n",
       "mean            82.956376   58.985043  \n",
       "std            103.253540   17.194757  \n",
       "min              0.000000   11.000000  \n",
       "25%             13.270000   47.000000  \n",
       "50%             47.985000   59.500000  \n",
       "75%            113.715000   72.000000  \n",
       "max            936.630000  100.000000  "
      ]
     },
     "execution_count": 4,
     "metadata": {},
     "output_type": "execute_result"
    }
   ],
   "source": [
    "data.describe()"
   ]
  },
  {
   "cell_type": "code",
   "execution_count": 5,
   "id": "5b11d929-852c-4ed9-b269-2c511e33553f",
   "metadata": {},
   "outputs": [
    {
     "name": "stdout",
     "output_type": "stream",
     "text": [
      "Are there any missing values? True\n"
     ]
    }
   ],
   "source": [
    "print (\"Are there any missing values?\", data.isnull().values.any())"
   ]
  },
  {
   "cell_type": "code",
   "execution_count": 6,
   "id": "e57235da-4fcf-484a-810a-0ab072b60069",
   "metadata": {},
   "outputs": [
    {
     "data": {
      "text/plain": [
       "Rank                    0\n",
       "Title                   0\n",
       "Genre                   0\n",
       "Description             0\n",
       "Director                0\n",
       "Actors                  0\n",
       "Year                    0\n",
       "Runtime (Minutes)       0\n",
       "Rating                  0\n",
       "Votes                   0\n",
       "Revenue (Millions)    128\n",
       "Metascore              64\n",
       "dtype: int64"
      ]
     },
     "execution_count": 6,
     "metadata": {},
     "output_type": "execute_result"
    }
   ],
   "source": [
    "data.isnull().sum()"
   ]
  },
  {
   "cell_type": "code",
   "execution_count": 7,
   "id": "c2c0408a-f16b-4219-81d3-c281ca2591cd",
   "metadata": {},
   "outputs": [
    {
     "data": {
      "text/plain": [
       "(1000, 12)"
      ]
     },
     "execution_count": 7,
     "metadata": {},
     "output_type": "execute_result"
    }
   ],
   "source": [
    "data.shape"
   ]
  },
  {
   "cell_type": "markdown",
   "id": "b438f662-121e-4edb-ae31-fe90131679d7",
   "metadata": {},
   "source": [
    "### visualizing missing values using heatmap"
   ]
  },
  {
   "cell_type": "code",
   "execution_count": 8,
   "id": "6abde403-d510-40aa-8ac3-6b036af1c02a",
   "metadata": {},
   "outputs": [
    {
     "data": {
      "text/plain": [
       "<Axes: >"
      ]
     },
     "execution_count": 8,
     "metadata": {},
     "output_type": "execute_result"
    },
    {
     "data": {
      "image/png": "[encoded data removed]",
      "text/plain": [
       "<Figure size 640x480 with 2 Axes>"
      ]
     },
     "metadata": {},
     "output_type": "display_data"
    }
   ],
   "source": [
    "import seaborn as sns\n",
    "import matplotlib.pyplot as plt\n",
    "sns.heatmap(data.isnull())"
   ]
  },
  {
   "cell_type": "markdown",
   "id": "303d62ab-7d19-4b08-bc04-45ff91899e6a",
   "metadata": {},
   "source": [
    "### Finding percentage of missing values"
   ]
  },
  {
   "cell_type": "code",
   "execution_count": 9,
   "id": "acbb7b7a-33aa-44d5-8f81-3c76c2ada020",
   "metadata": {},
   "outputs": [
    {
     "data": {
      "text/plain": [
       "Rank                   0.0\n",
       "Title                  0.0\n",
       "Genre                  0.0\n",
       "Description            0.0\n",
       "Director               0.0\n",
       "Actors                 0.0\n",
       "Year                   0.0\n",
       "Runtime (Minutes)      0.0\n",
       "Rating                 0.0\n",
       "Votes                  0.0\n",
       "Revenue (Millions)    12.8\n",
       "Metascore              6.4\n",
       "dtype: float64"
      ]
     },
     "execution_count": 9,
     "metadata": {},
     "output_type": "execute_result"
    }
   ],
   "source": [
    "per_missing=data.isnull().sum()*100/len(data)\n",
    "per_missing"
   ]
  },
  {
   "cell_type": "markdown",
   "id": "b6436749-4d41-4c8a-9777-c490ff66f7dc",
   "metadata": {},
   "source": [
    "### Handling missing values: Drop all the missing values"
   ]
  },
  {
   "cell_type": "code",
   "execution_count": 10,
   "id": "1690fe71-463f-434e-a23b-a7ffad3cdc4b",
   "metadata": {},
   "outputs": [],
   "source": [
    "data=data.dropna()"
   ]
  },
  {
   "cell_type": "code",
   "execution_count": 11,
   "id": "9b9b9307-a337-4379-8529-d79485ad5021",
   "metadata": {},
   "outputs": [
    {
     "data": {
      "text/plain": [
       "Rank                  0\n",
       "Title                 0\n",
       "Genre                 0\n",
       "Description           0\n",
       "Director              0\n",
       "Actors                0\n",
       "Year                  0\n",
       "Runtime (Minutes)     0\n",
       "Rating                0\n",
       "Votes                 0\n",
       "Revenue (Millions)    0\n",
       "Metascore             0\n",
       "dtype: int64"
      ]
     },
     "execution_count": 11,
     "metadata": {},
     "output_type": "execute_result"
    }
   ],
   "source": [
    "data.isnull().sum()"
   ]
  },
  {
   "cell_type": "code",
   "execution_count": 12,
   "id": "781195da-3193-4f09-a935-218210eb4a06",
   "metadata": {},
   "outputs": [
    {
     "data": {
      "text/plain": [
       "(838, 12)"
      ]
     },
     "execution_count": 12,
     "metadata": {},
     "output_type": "execute_result"
    }
   ],
   "source": [
    "data.shape"
   ]
  },
  {
   "cell_type": "code",
   "execution_count": 13,
   "id": "b4bb56cf-a86e-46b6-8451-b9f788f277fb",
   "metadata": {},
   "outputs": [
    {
     "name": "stdout",
     "output_type": "stream",
     "text": [
      "Number of rows 838\n",
      "Number of Columns 12\n"
     ]
    }
   ],
   "source": [
    "print(\"Number of rows\", data.shape[0])\n",
    "print(\"Number of Columns\", data.shape [1])"
   ]
  },
  {
   "cell_type": "markdown",
   "id": "185858c4-225b-4e8f-bbb8-b0fac3988436",
   "metadata": {},
   "source": [
    "### Check for duplicates data"
   ]
  },
  {
   "cell_type": "code",
   "execution_count": 14,
   "id": "db563c77-14ef-4a23-8030-466e4c5c7245",
   "metadata": {},
   "outputs": [],
   "source": [
    "dup_data=data.duplicated().any()"
   ]
  },
  {
   "cell_type": "code",
   "execution_count": 15,
   "id": "c7be762e-cdfb-4b32-a76a-00ccff23bed7",
   "metadata": {},
   "outputs": [
    {
     "name": "stdout",
     "output_type": "stream",
     "text": [
      "Are there any duplicate values? False\n"
     ]
    }
   ],
   "source": [
    "print(\"Are there any duplicate values?\", dup_data)"
   ]
  },
  {
   "cell_type": "markdown",
   "id": "89cb5cb4-be27-4432-a37a-1ff1b8d94cdd",
   "metadata": {},
   "source": [
    "### Converting data types: Ensuring that the rating column is numeric."
   ]
  },
  {
   "cell_type": "code",
   "execution_count": 16,
   "id": "afbea783-377e-40a6-a3ee-956534d16600",
   "metadata": {},
   "outputs": [],
   "source": [
    "data['Rating'] = pd.to_numeric(data['Rating'], errors='coerce')"
   ]
  },
  {
   "cell_type": "code",
   "execution_count": 17,
   "id": "28950195-5cca-4fcf-a3cb-07224912c00e",
   "metadata": {},
   "outputs": [
    {
     "name": "stdout",
     "output_type": "stream",
     "text": [
      "<class 'pandas.core.frame.DataFrame'>\n",
      "Index: 838 entries, 0 to 999\n",
      "Data columns (total 12 columns):\n",
      " #   Column              Non-Null Count  Dtype  \n",
      "---  ------              --------------  -----  \n",
      " 0   Rank                838 non-null    int64  \n",
      " 1   Title               838 non-null    object \n",
      " 2   Genre               838 non-null    object \n",
      " 3   Description         838 non-null    object \n",
      " 4   Director            838 non-null    object \n",
      " 5   Actors              838 non-null    object \n",
      " 6   Year                838 non-null    int64  \n",
      " 7   Runtime (Minutes)   838 non-null    int64  \n",
      " 8   Rating              838 non-null    float64\n",
      " 9   Votes               838 non-null    int64  \n",
      " 10  Revenue (Millions)  838 non-null    float64\n",
      " 11  Metascore           838 non-null    float64\n",
      "dtypes: float64(3), int64(4), object(5)\n",
      "memory usage: 85.1+ KB\n"
     ]
    }
   ],
   "source": [
    "data.info()"
   ]
  },
  {
   "cell_type": "markdown",
   "id": "2329aa6a-4437-42e8-9424-dbafffd09267",
   "metadata": {},
   "source": [
    "# 2. Calculate Summary Statistics"
   ]
  },
  {
   "cell_type": "markdown",
   "id": "6b11a920-60c8-41cc-9575-f001d690d5cd",
   "metadata": {},
   "source": [
    "## Using Pandas and NumPy:"
   ]
  },
  {
   "cell_type": "code",
   "execution_count": 18,
   "id": "92a8aa98-12ba-4b97-877f-95d55ba3d826",
   "metadata": {},
   "outputs": [
    {
     "name": "stdout",
     "output_type": "stream",
     "text": [
      "Mean: 6.814319809069212 Median: 6.9 Mode: 7.0\n"
     ]
    }
   ],
   "source": [
    "import numpy as np\n",
    "mean_rating = data['Rating'].mean()\n",
    "median_rating = data['Rating'].median()\n",
    "mode_rating = data['Rating'].mode()[0]\n",
    "print(\"Mean:\", mean_rating, \"Median:\", median_rating, \"Mode:\", mode_rating)"
   ]
  },
  {
   "cell_type": "markdown",
   "id": "0b962885-9dfd-49e3-95ac-9870657dbddc",
   "metadata": {},
   "source": [
    "# 3. Visualization of Ratings Distribution"
   ]
  },
  {
   "cell_type": "markdown",
   "id": "9b5c450b-f78b-45d0-97db-75fd2dec86bc",
   "metadata": {},
   "source": [
    "## Histogram - To show the frequency distribution of ratings:"
   ]
  },
  {
   "cell_type": "code",
   "execution_count": 19,
   "id": "bd16b428-5e05-4f96-b185-1d195f681e6d",
   "metadata": {},
   "outputs": [
    {
     "data": {
      "image/png": "[encoded data removed]",
      "text/plain": [
       "<Figure size 1000x600 with 1 Axes>"
      ]
     },
     "metadata": {},
     "output_type": "display_data"
    }
   ],
   "source": [
    "plt.figure(figsize=(10, 6))\n",
    "sns.histplot(data['Rating'], bins=20, kde=True)\n",
    "plt.title('Distribution of Movie Ratings')\n",
    "plt.xlabel('Rating')\n",
    "plt.ylabel('Frequency')\n",
    "plt.show()"
   ]
  },
  {
   "cell_type": "markdown",
   "id": "8d39d9aa-6f09-4ab1-8b7f-05a0a2fb98aa",
   "metadata": {},
   "source": [
    "## Box Plot - To identify outliers and visualize rating spread:"
   ]
  },
  {
   "cell_type": "code",
   "execution_count": 20,
   "id": "f54509c5-d508-4a96-b555-ce28805c671a",
   "metadata": {},
   "outputs": [
    {
     "data": {
      "image/png": "[encoded data removed]",
      "text/plain": [
       "<Figure size 1000x600 with 1 Axes>"
      ]
     },
     "metadata": {},
     "output_type": "display_data"
    }
   ],
   "source": [
    "plt.figure(figsize=(10, 6))\n",
    "sns.boxplot(x='Rating', data=data)\n",
    "plt.title('Box Plot of Movie Ratings')\n",
    "plt.xlabel('Rating')\n",
    "plt.show()"
   ]
  },
  {
   "cell_type": "markdown",
   "id": "9478c7eb-3667-449f-9061-b5dd4af6ccac",
   "metadata": {},
   "source": [
    "# 4. Identify Top-Rated Movies and Genres"
   ]
  },
  {
   "cell_type": "markdown",
   "id": "66266787-3a02-40a1-91ba-e98134c2b103",
   "metadata": {},
   "source": [
    "## Displaying The Top 10 Rated Movies and Genres"
   ]
  },
  {
   "cell_type": "code",
   "execution_count": 21,
   "id": "61534ca8-0d37-49ca-ab6c-5f58f5ed3678",
   "metadata": {},
   "outputs": [
    {
     "data": {
      "text/html": [
       "<div>\n",
       "<style scoped>\n",
       "    .dataframe tbody tr th:only-of-type {\n",
       "        vertical-align: middle;\n",
       "    }\n",
       "\n",
       "    .dataframe tbody tr th {\n",
       "        vertical-align: top;\n",
       "    }\n",
       "\n",
       "    .dataframe thead th {\n",
       "        text-align: right;\n",
       "    }\n",
       "</style>\n",
       "<table border=\"1\" class=\"dataframe\">\n",
       "  <thead>\n",
       "    <tr style=\"text-align: right;\">\n",
       "      <th></th>\n",
       "      <th>Rating</th>\n",
       "      <th>Genre</th>\n",
       "    </tr>\n",
       "    <tr>\n",
       "      <th>Title</th>\n",
       "      <th></th>\n",
       "      <th></th>\n",
       "    </tr>\n",
       "  </thead>\n",
       "  <tbody>\n",
       "    <tr>\n",
       "      <th>The Dark Knight</th>\n",
       "      <td>9.0</td>\n",
       "      <td>Action,Crime,Drama</td>\n",
       "    </tr>\n",
       "    <tr>\n",
       "      <th>Inception</th>\n",
       "      <td>8.8</td>\n",
       "      <td>Action,Adventure,Sci-Fi</td>\n",
       "    </tr>\n",
       "    <tr>\n",
       "      <th>Interstellar</th>\n",
       "      <td>8.6</td>\n",
       "      <td>Adventure,Drama,Sci-Fi</td>\n",
       "    </tr>\n",
       "    <tr>\n",
       "      <th>Kimi no na wa</th>\n",
       "      <td>8.6</td>\n",
       "      <td>Animation,Drama,Fantasy</td>\n",
       "    </tr>\n",
       "    <tr>\n",
       "      <th>The Intouchables</th>\n",
       "      <td>8.6</td>\n",
       "      <td>Biography,Comedy,Drama</td>\n",
       "    </tr>\n",
       "    <tr>\n",
       "      <th>The Prestige</th>\n",
       "      <td>8.5</td>\n",
       "      <td>Drama,Mystery,Sci-Fi</td>\n",
       "    </tr>\n",
       "    <tr>\n",
       "      <th>The Departed</th>\n",
       "      <td>8.5</td>\n",
       "      <td>Crime,Drama,Thriller</td>\n",
       "    </tr>\n",
       "    <tr>\n",
       "      <th>The Dark Knight Rises</th>\n",
       "      <td>8.5</td>\n",
       "      <td>Action,Thriller</td>\n",
       "    </tr>\n",
       "    <tr>\n",
       "      <th>Whiplash</th>\n",
       "      <td>8.5</td>\n",
       "      <td>Drama,Music</td>\n",
       "    </tr>\n",
       "    <tr>\n",
       "      <th>The Lives of Others</th>\n",
       "      <td>8.5</td>\n",
       "      <td>Drama,Thriller</td>\n",
       "    </tr>\n",
       "  </tbody>\n",
       "</table>\n",
       "</div>"
      ],
      "text/plain": [
       "                       Rating                    Genre\n",
       "Title                                                 \n",
       "The Dark Knight           9.0       Action,Crime,Drama\n",
       "Inception                 8.8  Action,Adventure,Sci-Fi\n",
       "Interstellar              8.6   Adventure,Drama,Sci-Fi\n",
       "Kimi no na wa             8.6  Animation,Drama,Fantasy\n",
       "The Intouchables          8.6   Biography,Comedy,Drama\n",
       "The Prestige              8.5     Drama,Mystery,Sci-Fi\n",
       "The Departed              8.5     Crime,Drama,Thriller\n",
       "The Dark Knight Rises     8.5          Action,Thriller\n",
       "Whiplash                  8.5              Drama,Music\n",
       "The Lives of Others       8.5           Drama,Thriller"
      ]
     },
     "execution_count": 21,
     "metadata": {},
     "output_type": "execute_result"
    }
   ],
   "source": [
    "top10_len=data.nlargest(10, 'Rating')[['Title','Rating','Genre']].set_index('Title')\n",
    "top10_len"
   ]
  },
  {
   "cell_type": "code",
   "execution_count": 22,
   "id": "9b3f5d73-3723-4e9a-b43a-444af735bdf5",
   "metadata": {},
   "outputs": [
    {
     "data": {
      "image/png": "[encoded data removed]",
      "text/plain": [
       "<Figure size 640x480 with 1 Axes>"
      ]
     },
     "metadata": {},
     "output_type": "display_data"
    }
   ],
   "source": [
    "sns.barplot(x='Rating',y=top10_len.index, data=top10_len, hue='Genre',dodge=False, palette=\"Set2\")\n",
    "plt.legend(bbox_to_anchor=(1.05,1),loc=2)\n",
    "plt.title(\"Rating By Title\")\n",
    "plt.show()"
   ]
  }
 ],
 "metadata": {
  "kernelspec": {
   "display_name": "Python 3 (ipykernel)",
   "language": "python",
   "name": "python3"
  },
  "language_info": {
   "codemirror_mode": {
    "name": "ipython",
    "version": 3
   },
   "file_extension": ".py",
   "mimetype": "text/x-python",
   "name": "python",
   "nbconvert_exporter": "python",
   "pygments_lexer": "ipython3",
   "version": "3.12.7"
  },
  "panel-cell-order": [
   "85754a29-4cfc-479c-a64f-d8d9a1ee4c37",
   "1b990e0e-c4eb-4a65-af53-d5a3b42a259e",
   "49040455-f853-4eb2-a5c2-0ade85da8f1d",
   "204a5b48-e2e7-4339-a290-409a3ef208f7",
   "2f4252ea-1360-4942-b7ea-d9ca158c2855",
   "172b5eb1-bc17-4c0c-8cf3-da8297c4a37c",
   "c7746eac-798d-4f68-abe9-954732b77f07",
   "d2f8cb19-6fdb-4f0a-8cdf-b027fee1ce11",
   "5825ccd7-61a2-4749-a5e4-1f982dede8c9",
   "c2540f81-83c8-4afe-97c9-9f9778eca2e9",
   "1162cbae-c359-464b-9c98-ccddc23a5bda",
   "592b44f1-7ea4-4423-8719-38b608ddb83a",
   "40d77ed7-f3e7-4e8c-8304-d54b1916889e",
   "10273109-dec3-4a72-8f4a-e9bc34624cd8",
   "27f0b0d9-8dcb-4951-b255-ac1a7c87b0dd",
   "7fb703d3-6653-4b60-b8a2-8f46dc010591",
   "82c381cf-8c10-441f-a8fe-3ca5d1d847ab",
   "17a40f74-0542-4964-9eba-bb09b274b368",
   "0eb954b3-b814-4149-9607-777c2a76d1ed",
   "a69e406e-7e77-4b73-948e-f3fd91e710fc",
   "dfef5ccc-6c42-44d1-b3f3-4fc6b90a1382",
   "926a7246-e88b-4eb0-8aad-e011abef9251",
   "28c7c044-d72c-4079-b162-4657d846ce3b",
   "e50a5eca-6727-434c-8b23-d5c57977877e",
   "4d6abb08-9a46-45ef-8b3f-8dfdd92cc3bb",
   "d379af2f-29c3-43a4-b978-e8050117ad93",
   "02007ed6-d30b-4eac-b2c7-306a152619d5",
   "4f39df0c-af81-4156-8305-6c3237fa73f7",
   "175a6d4f-9a6f-4334-bf25-0cead4589ede",
   "03119ffc-7e68-42db-b490-faab8172fa99",
   "cb972fb7-b747-4814-bc79-6c0a4f348b62",
   "044670d8-3e67-4fcf-b56f-a42ae11ccb2f",
   "188a5fdd-d82d-4ec1-8083-3541ccba1e83",
   "3c3c193c-1e10-4959-97cf-d758d8f3e35f",
   "02fb81fa-4680-488b-98b9-aa7ff907b5ce",
   "7fcf5b81-87fc-4935-a406-386460e16a31",
   "60b65850-7f3c-44e8-88a2-eb5938fecd84",
   "42ac26e4-34de-4e04-ab53-256312b46978",
   "a3431e35-817b-4112-aae7-e70711558098",
   "ec434c80-21f5-46d1-9055-a8c7360a9a35",
   "a63c179d-d50c-4c6f-a490-3c843feacedf",
   "e93c81b9-2b53-469f-96e6-e5a797f6d1d0",
   "64841718-aa13-45e2-b398-32c0b5379d58",
   "439714a2-033c-403a-8a3b-dce5b9bf8f30",
   "986515dc-1b1a-475c-a376-2fe60c97e67a",
   "f39ccf81-3ee3-40ad-bdbb-b27b9a41c521",
   "b9617414-48f8-4913-9d2e-46c7b1040624",
   "39bbc11b-9e63-4581-8bc0-fbb309159444",
   "dbc6c49d-52a6-4a7e-acba-5fe521c86f7e",
   "4f38bdd6-8937-4167-9e17-f05da0f1b6fb",
   "f6aca902-fd85-44d6-8925-08117ce7e6a6",
   "b55924e7-4fa4-43b4-bf4a-6e45e03edb46",
   "2a586b96-1b22-4738-839b-54833362e918",
   "67293dea-d932-4ac4-ad8c-15d9f488883e",
   "44136a9b-5530-4c9a-bfaa-02788a44628e",
   "a8774c39-3ae5-4139-92af-aaba2bb6dec0",
   "f33e2d9e-36dd-48ef-9e0c-930546be0a43",
   "f30b1f0d-c282-4745-8899-da0e50a7dcd0",
   "c6daa987-ccb4-4062-a51f-17b2a912299d",
   "70b1babe-0dac-4a1a-9a78-b0de56f0d352",
   "1205b6f7-605b-4ad1-8b7e-3c5272a6095e",
   "2a9d46c6-a94d-4177-b313-e17912dbce6b",
   "dfc1077e-fa1d-4f4a-bc1f-b20af9b5b052",
   "fa7501c4-1486-4d20-8055-c200cd0db7a1",
   "94651d3f-8935-4aff-be05-2da3521965f8",
   "508e76c3-16c9-4989-8b3c-cce37d70f7f5",
   "9d829b25-0b2f-4a3b-803e-596d2b799085",
   "96945ddd-c971-455b-866c-2fd001bcade0",
   "cc9c0084-5c35-4dff-b618-2082989c109a",
   "80fbbc37-dbca-41c6-ac64-b7244bd79a69",
   "39f149a6-29ed-42b5-9c07-298f68795470",
   "1a10e179-074d-470f-8765-5fc89fe10cd6",
   "b9529da3-0fbc-4522-84b6-76b95a55bfac",
   "5f44aa7b-9626-4931-a698-84dac30034f8",
   "a864964c-57c0-430d-896e-a1931a5d5cfc",
   "3e6586a0-f036-4d6b-80f3-3c54de781df0",
   "c14ab5de-087d-463e-91a0-2fa501f0cbc2",
   "6a539d02-342b-4bc9-b7dd-fc820f75113c"
  ]
 },
 "nbformat": 4,
 "nbformat_minor": 5
}
